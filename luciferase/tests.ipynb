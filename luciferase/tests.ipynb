{
 "cells": [
  {
   "cell_type": "code",
   "execution_count": 1,
   "metadata": {},
   "outputs": [],
   "source": [
    "%load_ext autoreload\n",
    "%autoreload 2"
   ]
  },
  {
   "cell_type": "code",
   "execution_count": 2,
   "metadata": {},
   "outputs": [],
   "source": [
    "from luciferase.io import TecanReader\n",
    "\n",
    "testfile = '/Users/rejsmont/Downloads/Data-illumina-13_01_2021.xlsx'"
   ]
  },
  {
   "cell_type": "code",
   "execution_count": 7,
   "metadata": {},
   "outputs": [
    {
     "data": {
      "text/plain": [
       "[LabelMetadata({'mode': 'Absorbance', 'measurement_wavelength': 600.0 nm, 'bandwidth': 9.0 nm, 'number_of_flashes': 10.0, 'settle_time': 50.0 ms}),\n",
       " LabelMetadata({'mode': 'Fluorescence Top Reading', 'excitation_wavelength': 280.0 nm, 'emission_wavelength': 510.0 nm, 'excitation_bandwidth': 5.0 nm, 'emission_bandwidth': 20.0 nm, 'gain': 100.0 Manual, 'number_of_flashes': 30.0, 'integration_time': 20.0 µs, 'lag_time': 0.0 µs, 'settle_time': 50.0 ms, 'z_position_manual': 20000.0 µm}),\n",
       " LabelMetadata({'mode': 'Fluorescence Top Reading', 'excitation_wavelength': 280.0 nm, 'emission_wavelength': 510.0 nm, 'excitation_bandwidth': 5.0 nm, 'emission_bandwidth': 20.0 nm, 'gain': 75.0 Manual, 'number_of_flashes': 30.0, 'integration_time': 20.0 µs, 'lag_time': 0.0 µs, 'settle_time': 50.0 ms, 'z_position_manual': 20000.0 µm}),\n",
       " LabelMetadata({'mode': 'Fluorescence Top Reading', 'excitation_wavelength': 280.0 nm, 'emission_wavelength': 510.0 nm, 'excitation_bandwidth': 5.0 nm, 'emission_bandwidth': 20.0 nm, 'gain': 50.0 Manual, 'number_of_flashes': 30.0, 'integration_time': 20.0 µs, 'lag_time': 0.0 µs, 'settle_time': 50.0 ms, 'z_position_manual': 20000.0 µm}),\n",
       " LabelMetadata({'mode': 'Fluorescence Top Reading', 'excitation_wavelength': 590.0 nm, 'emission_wavelength': 633.0 nm, 'excitation_bandwidth': 9.0 nm, 'emission_bandwidth': 20.0 nm, 'gain': 100.0 Manual, 'number_of_flashes': 30.0, 'integration_time': 20.0 µs, 'lag_time': 0.0 µs, 'settle_time': 50.0 ms, 'z_position_manual': 20000.0 µm}),\n",
       " LabelMetadata({'mode': 'Fluorescence Top Reading', 'excitation_wavelength': 590.0 nm, 'emission_wavelength': 633.0 nm, 'excitation_bandwidth': 9.0 nm, 'emission_bandwidth': 20.0 nm, 'gain': 75.0 Manual, 'number_of_flashes': 30.0, 'integration_time': 20.0 µs, 'lag_time': 0.0 µs, 'settle_time': 50.0 ms, 'z_position_manual': 20000.0 µm}),\n",
       " LabelMetadata({'mode': 'Fluorescence Top Reading', 'excitation_wavelength': 590.0 nm, 'emission_wavelength': 633.0 nm, 'excitation_bandwidth': 9.0 nm, 'emission_bandwidth': 20.0 nm, 'gain': 50.0 Manual, 'number_of_flashes': 30.0, 'integration_time': 20.0 µs, 'lag_time': 0.0 µs, 'settle_time': 50.0 ms, 'z_position_manual': 20000.0 µm})]"
      ]
     },
     "execution_count": 7,
     "metadata": {},
     "output_type": "execute_result"
    }
   ],
   "source": [
    "TecanReader.read(testfile)"
   ]
  },
  {
   "cell_type": "code",
   "execution_count": 4,
   "metadata": {},
   "outputs": [
    {
     "data": {
      "text/plain": [
       "1.0nm"
      ]
     },
     "execution_count": 4,
     "metadata": {},
     "output_type": "execute_result"
    }
   ],
   "source": [
    "from luciferase.data import RealUnitValue\n",
    "\n",
    "xxx = RealUnitValue(1, 'nm')\n",
    "xxx"
   ]
  },
  {
   "cell_type": "code",
   "execution_count": 5,
   "metadata": {},
   "outputs": [
    {
     "data": {
      "text/plain": [
       "'nm'"
      ]
     },
     "execution_count": 5,
     "metadata": {},
     "output_type": "execute_result"
    }
   ],
   "source": [
    "xxx._unit"
   ]
  },
  {
   "cell_type": "code",
   "execution_count": 10,
   "metadata": {},
   "outputs": [
    {
     "ename": "TypeError",
     "evalue": "float.__new__(Foo): Foo is not a subtype of float",
     "output_type": "error",
     "traceback": [
      "\u001b[0;31m---------------------------------------------------------------------------\u001b[0m",
      "\u001b[0;31mTypeError\u001b[0m                                 Traceback (most recent call last)",
      "\u001b[0;32m<ipython-input-10-002780dd0950>\u001b[0m in \u001b[0;36m<module>\u001b[0;34m\u001b[0m\n\u001b[1;32m      5\u001b[0m         \u001b[0;32mreturn\u001b[0m \u001b[0mo\u001b[0m\u001b[0;34m\u001b[0m\u001b[0;34m\u001b[0m\u001b[0m\n\u001b[1;32m      6\u001b[0m \u001b[0;34m\u001b[0m\u001b[0m\n\u001b[0;32m----> 7\u001b[0;31m \u001b[0mFoo\u001b[0m\u001b[0;34m(\u001b[0m\u001b[0;36m1.0\u001b[0m\u001b[0;34m,\u001b[0m \u001b[0;34m'nm'\u001b[0m\u001b[0;34m)\u001b[0m\u001b[0;34m\u001b[0m\u001b[0;34m\u001b[0m\u001b[0m\n\u001b[0m",
      "\u001b[0;32m<ipython-input-10-002780dd0950>\u001b[0m in \u001b[0;36m__new__\u001b[0;34m(cls, value, unit)\u001b[0m\n\u001b[1;32m      1\u001b[0m \u001b[0;32mclass\u001b[0m \u001b[0mFoo\u001b[0m\u001b[0;34m:\u001b[0m\u001b[0;34m\u001b[0m\u001b[0;34m\u001b[0m\u001b[0m\n\u001b[1;32m      2\u001b[0m     \u001b[0;32mdef\u001b[0m \u001b[0m__new__\u001b[0m\u001b[0;34m(\u001b[0m\u001b[0mcls\u001b[0m\u001b[0;34m,\u001b[0m \u001b[0mvalue\u001b[0m\u001b[0;34m,\u001b[0m \u001b[0munit\u001b[0m\u001b[0;34m)\u001b[0m\u001b[0;34m:\u001b[0m\u001b[0;34m\u001b[0m\u001b[0;34m\u001b[0m\u001b[0m\n\u001b[0;32m----> 3\u001b[0;31m         \u001b[0mo\u001b[0m \u001b[0;34m=\u001b[0m \u001b[0mtype\u001b[0m\u001b[0;34m(\u001b[0m\u001b[0mvalue\u001b[0m\u001b[0;34m)\u001b[0m\u001b[0;34m.\u001b[0m\u001b[0m__new__\u001b[0m\u001b[0;34m(\u001b[0m\u001b[0mcls\u001b[0m\u001b[0;34m,\u001b[0m \u001b[0mvalue\u001b[0m\u001b[0;34m)\u001b[0m\u001b[0;34m\u001b[0m\u001b[0;34m\u001b[0m\u001b[0m\n\u001b[0m\u001b[1;32m      4\u001b[0m         \u001b[0mo\u001b[0m\u001b[0;34m.\u001b[0m\u001b[0m_unit\u001b[0m \u001b[0;34m=\u001b[0m \u001b[0munit\u001b[0m\u001b[0;34m\u001b[0m\u001b[0;34m\u001b[0m\u001b[0m\n\u001b[1;32m      5\u001b[0m         \u001b[0;32mreturn\u001b[0m \u001b[0mo\u001b[0m\u001b[0;34m\u001b[0m\u001b[0;34m\u001b[0m\u001b[0m\n",
      "\u001b[0;31mTypeError\u001b[0m: float.__new__(Foo): Foo is not a subtype of float"
     ]
    }
   ],
   "source": [
    "class Foo:\n",
    "    def __new__(cls, value, unit):\n",
    "        o = type(value).__new__(cls, value)\n",
    "        o._unit = unit\n",
    "        return o\n",
    "    \n",
    "Foo(1.0, 'nm')"
   ]
  },
  {
   "cell_type": "code",
   "execution_count": null,
   "metadata": {},
   "outputs": [],
   "source": []
  }
 ],
 "metadata": {
  "kernelspec": {
   "display_name": "Python 3",
   "language": "python",
   "name": "python3"
  },
  "language_info": {
   "codemirror_mode": {
    "name": "ipython",
    "version": 3
   },
   "file_extension": ".py",
   "mimetype": "text/x-python",
   "name": "python",
   "nbconvert_exporter": "python",
   "pygments_lexer": "ipython3",
   "version": "3.8.5"
  }
 },
 "nbformat": 4,
 "nbformat_minor": 1
}
