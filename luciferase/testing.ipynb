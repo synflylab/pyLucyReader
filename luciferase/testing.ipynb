{
 "cells": [
  {
   "cell_type": "code",
   "execution_count": 1,
   "metadata": {},
   "outputs": [],
   "source": [
    "%load_ext autoreload\n",
    "%autoreload 2"
   ]
  },
  {
   "cell_type": "code",
   "execution_count": 2,
   "metadata": {},
   "outputs": [],
   "source": [
    "from luciferase.io import DualLuciferaseExperimentReader\n",
    "\n",
    "experiment = DualLuciferaseExperimentReader.read(\n",
    "    '/Users/rejsmont/Desktop/24122020/metadata.xlsx', [\n",
    "        '/Users/rejsmont/Desktop/24122020/24122020_ff_t1_ag160ag161pmt.xlsx',\n",
    "        '/Users/rejsmont/Desktop/24122020/24122020_ff_t2_ag160ag161pmt.xlsx',\n",
    "        '/Users/rejsmont/Desktop/24122020/24122020_ff_t3_ag160ag161pmt.xlsx'\n",
    "    ], [\n",
    "        '/Users/rejsmont/Desktop/24122020/24122020_RNL_t1_ag160ag161pmt.xlsx',\n",
    "        '/Users/rejsmont/Desktop/24122020/24122020_RNL_t2_ag160ag161pmt.xlsx',\n",
    "        '/Users/rejsmont/Desktop/24122020/24122020_RNL_t3_ag160ag161pmt.xlsx'\n",
    "    ]\n",
    ")"
   ]
  },
  {
   "cell_type": "code",
   "execution_count": 3,
   "metadata": {},
   "outputs": [
    {
     "data": {
      "text/html": [
       "<div>\n",
       "<style scoped>\n",
       "    .dataframe tbody tr th:only-of-type {\n",
       "        vertical-align: middle;\n",
       "    }\n",
       "\n",
       "    .dataframe tbody tr th {\n",
       "        vertical-align: top;\n",
       "    }\n",
       "\n",
       "    .dataframe thead th {\n",
       "        text-align: right;\n",
       "    }\n",
       "</style>\n",
       "<table border=\"1\" class=\"dataframe\">\n",
       "  <thead>\n",
       "    <tr style=\"text-align: right;\">\n",
       "      <th></th>\n",
       "      <th></th>\n",
       "      <th></th>\n",
       "      <th>normalized</th>\n",
       "    </tr>\n",
       "    <tr>\n",
       "      <th>induction</th>\n",
       "      <th>sample</th>\n",
       "      <th>plate</th>\n",
       "      <th></th>\n",
       "    </tr>\n",
       "  </thead>\n",
       "  <tbody>\n",
       "    <tr>\n",
       "      <th rowspan=\"5\" valign=\"top\">0.0</th>\n",
       "      <th rowspan=\"5\" valign=\"top\">MT mutated</th>\n",
       "      <th>1</th>\n",
       "      <td>0.011660</td>\n",
       "    </tr>\n",
       "    <tr>\n",
       "      <th>1</th>\n",
       "      <td>0.009859</td>\n",
       "    </tr>\n",
       "    <tr>\n",
       "      <th>1</th>\n",
       "      <td>0.006857</td>\n",
       "    </tr>\n",
       "    <tr>\n",
       "      <th>2</th>\n",
       "      <td>0.027311</td>\n",
       "    </tr>\n",
       "    <tr>\n",
       "      <th>2</th>\n",
       "      <td>0.019554</td>\n",
       "    </tr>\n",
       "    <tr>\n",
       "      <th>...</th>\n",
       "      <th>...</th>\n",
       "      <th>...</th>\n",
       "      <td>...</td>\n",
       "    </tr>\n",
       "    <tr>\n",
       "      <th rowspan=\"5\" valign=\"top\">1000.0</th>\n",
       "      <th rowspan=\"5\" valign=\"top\">MT native</th>\n",
       "      <th>2</th>\n",
       "      <td>0.426006</td>\n",
       "    </tr>\n",
       "    <tr>\n",
       "      <th>2</th>\n",
       "      <td>0.738645</td>\n",
       "    </tr>\n",
       "    <tr>\n",
       "      <th>3</th>\n",
       "      <td>1.108558</td>\n",
       "    </tr>\n",
       "    <tr>\n",
       "      <th>3</th>\n",
       "      <td>1.568674</td>\n",
       "    </tr>\n",
       "    <tr>\n",
       "      <th>3</th>\n",
       "      <td>1.032706</td>\n",
       "    </tr>\n",
       "  </tbody>\n",
       "</table>\n",
       "<p>105 rows × 1 columns</p>\n",
       "</div>"
      ],
      "text/plain": [
       "                            normalized\n",
       "induction sample     plate            \n",
       "0.0       MT mutated 1        0.011660\n",
       "                     1        0.009859\n",
       "                     1        0.006857\n",
       "                     2        0.027311\n",
       "                     2        0.019554\n",
       "...                                ...\n",
       "1000.0    MT native  2        0.426006\n",
       "                     2        0.738645\n",
       "                     3        1.108558\n",
       "                     3        1.568674\n",
       "                     3        1.032706\n",
       "\n",
       "[105 rows x 1 columns]"
      ]
     },
     "execution_count": 3,
     "metadata": {},
     "output_type": "execute_result"
    }
   ],
   "source": [
    "import pandas as pd\n",
    "\n",
    "idx = pd.IndexSlice\n",
    "n = experiment.normalize(background='neg').sort_index()\n",
    "d = n.drop(n.loc[idx[3, 'F', 4:6], :].index) \\\n",
    "     .reset_index() \\\n",
    "     .set_index(['induction', 'sample', 'plate']) \\\n",
    "     .loc[:, ['normalized']] \\\n",
    "     .dropna() \\\n",
    "     .sort_index()\n",
    "\n",
    "d"
   ]
  },
  {
   "cell_type": "code",
   "execution_count": 7,
   "metadata": {},
   "outputs": [
    {
     "data": {
      "text/plain": [
       "FrozenList([[0.0, 10.0, 50.0, 100.0, 500.0, 1000.0], ['MT mutated', 'MT native', 'neg'], [1, 2, 3]])"
      ]
     },
     "execution_count": 7,
     "metadata": {},
     "output_type": "execute_result"
    }
   ],
   "source": [
    "d.index.levels"
   ]
  },
  {
   "cell_type": "code",
   "execution_count": 8,
   "metadata": {
    "scrolled": false
   },
   "outputs": [
    {
     "name": "stderr",
     "output_type": "stream",
     "text": [
      "<ipython-input-8-7fa0f21982fe>:9: UserWarning: Matplotlib is currently using module://ipykernel.pylab.backend_inline, which is a non-GUI backend, so cannot show the figure.\n",
      "  fig.show()\n"
     ]
    },
    {
     "data": {
      "image/png": "[encoded data removed]",
      "text/plain": [
       "<Figure size 1080x360 with 1 Axes>"
      ]
     },
     "metadata": {
      "needs_background": "light"
     },
     "output_type": "display_data"
    }
   ],
   "source": [
    "from matplotlib import pyplot as plt\n",
    "from luciferase import graphs\n",
    "\n",
    "fig, ax = plt.subplots(figsize=(15, 5))\n",
    "graphs.catplot(d, ax=ax, samples=['MT native', 'MT mutated'], spacing=0.5,\n",
    "               title='Luciferase assay for the MT promoter',\n",
    "               ylabel='Normalized signal (ff/rn) [au]',\n",
    "               xlabel='CuSO$_4$ concentration [μm]')\n",
    "fig.show()\n"
   ]
  },
  {
   "cell_type": "code",
   "execution_count": null,
   "metadata": {},
   "outputs": [],
   "source": []
  }
 ],
 "metadata": {
  "kernelspec": {
   "display_name": "Python 3",
   "language": "python",
   "name": "python3"
  },
  "language_info": {
   "codemirror_mode": {
    "name": "ipython",
    "version": 3
   },
   "file_extension": ".py",
   "mimetype": "text/x-python",
   "name": "python",
   "nbconvert_exporter": "python",
   "pygments_lexer": "ipython3",
   "version": "3.8.5"
  }
 },
 "nbformat": 4,
 "nbformat_minor": 1
}
